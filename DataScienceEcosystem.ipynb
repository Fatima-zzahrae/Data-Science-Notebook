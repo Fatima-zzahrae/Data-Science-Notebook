{
  "metadata": {
    "kernelspec": {
      "name": "python",
      "display_name": "Python (Pyodide)",
      "language": "python"
    },
    "language_info": {
      "codemirror_mode": {
        "name": "python",
        "version": 3
      },
      "file_extension": ".py",
      "mimetype": "text/x-python",
      "name": "python",
      "nbconvert_exporter": "python",
      "pygments_lexer": "ipython3",
      "version": "3.8"
    }
  },
  "nbformat_minor": 5,
  "nbformat": 4,
  "cells": [
    {
      "id": "3dafb717-71d0-4d3e-9ca1-7b05f328bdf0",
      "cell_type": "markdown",
      "source": "# Data Science Tools and Ecosystem",
      "metadata": {}
    },
    {
      "id": "c73cb606-e834-469f-a905-bdb30c5ca815",
      "cell_type": "markdown",
      "source": "In this notebook, Data Science Tools and Ecosystem are summarized.",
      "metadata": {}
    },
    {
      "id": "b3966162-c12e-47da-9615-6c2da5a56746",
      "cell_type": "markdown",
      "source": "Some of the popular languages that Data Scientists use are:\n1. Python\n2. R\n3. Julia",
      "metadata": {}
    },
    {
      "id": "7f0d622f-7f58-4162-9909-07e6248fd3cc",
      "cell_type": "markdown",
      "source": "Some of the commonly used libraries used by Data Scientists include:\n\n1. NumPy\n2. Pandas\n3. TensorFlow",
      "metadata": {}
    },
    {
      "id": "12213f31-4f94-4528-a98d-eb16fb16e195",
      "cell_type": "markdown",
      "source": "| Data Science Tools       |\n|---------------------------|\n| Jupyter Notebook         |\n| RStudio                  |\n| Apache Zeppelin          |",
      "metadata": {}
    },
    {
      "id": "01119980-7b0b-4f1a-bc00-bce8a6a7fb21",
      "cell_type": "markdown",
      "source": "### Below are a few examples of evaluating arithmetic expressions in Python.",
      "metadata": {}
    },
    {
      "id": "380bafd8-ebe6-490a-a6f4-ac833ff90d42",
      "cell_type": "code",
      "source": "# This is a simple arithmetic expression to multiply then add integers.\n(3 * 4) + 5",
      "metadata": {
        "trusted": true
      },
      "outputs": [
        {
          "execution_count": 3,
          "output_type": "execute_result",
          "data": {
            "text/plain": "17"
          },
          "metadata": {}
        }
      ],
      "execution_count": 3
    },
    {
      "id": "6d44dd01-023c-40f6-a9c0-5c811f243cde",
      "cell_type": "code",
      "source": "# This will convert 200 minutes to hours by dividing by 60.\n200 / 60",
      "metadata": {
        "trusted": true
      },
      "outputs": [
        {
          "execution_count": 4,
          "output_type": "execute_result",
          "data": {
            "text/plain": "3.3333333333333335"
          },
          "metadata": {}
        }
      ],
      "execution_count": 4
    },
    {
      "id": "2326361b-f461-4f86-925a-cccd59dc3e88",
      "cell_type": "markdown",
      "source": "**Objectives:**\n\n- List popular languages for Data Science.\n- Identify commonly used libraries in Data Science.\n- Describe open-source tools used in Data Science.\n- Perform arithmetic operations in Python.\n- Convert minutes into hours using Python expressions.",
      "metadata": {}
    },
    {
      "id": "3dc6af8e-7982-48b5-ad0c-007ecf75210f",
      "cell_type": "markdown",
      "source": "## Author\n\nFatima zzahrae",
      "metadata": {}
    },
    {
      "id": "ccdbb6f6-9de8-45c0-8a77-8d00aab5df50",
      "cell_type": "code",
      "source": "",
      "metadata": {
        "trusted": true
      },
      "outputs": [],
      "execution_count": null
    }
  ]
}